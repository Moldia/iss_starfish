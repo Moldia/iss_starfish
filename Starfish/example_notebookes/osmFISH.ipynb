{
 "cells": [
  {
   "cell_type": "markdown",
   "metadata": {},
   "source": [
    "## Reproduce Published osmFISH results with Starfish\n",
    "\n",
    "osmFISH is an image based transcriptomics technique that can spatially resolve tens of RNA transcripts and their expression levels in-situ. The protocol anddata analysis are described in this [publication](https://www.nature.com/articles/s41592-018-0175-z). This notebook walks through how to use Starfish to process the raw images from an osmFISH experiment into a spatially resolved gene expression image. We verify taht Starfish can accurately reproduce the results from the authors' original Python [pipeline](http://linnarssonlab.org/osmFISH/image_analysis/)\n",
    "\n",
    "Please see [documentation](https://spacetx-starfish.readthedocs.io/en/stable/index.html) for detailed descriptions of all the data structures and methods used here."
   ]
  },
  {
   "cell_type": "code",
   "execution_count": null,
   "metadata": {},
   "outputs": [],
   "source": [
    "import os\n",
    "import pickle\n",
    "\n",
    "import matplotlib.pyplot as plt\n",
    "import numpy as np\n",
    "import pandas as pd\n",
    "\n",
    "from starfish import FieldOfView, data\n",
    "from starfish.types import Axes\n",
    "\n",
    "%matplotlib inline\n",
    "%load_ext autoreload\n",
    "%autoreload 2"
   ]
  },
  {
   "cell_type": "markdown",
   "metadata": {},
   "source": [
    "## Load Data into Starfish from the Cloud\n",
    "\n",
    "The data from an osmFISH experiment are similar in form to a standard smFISH experiment. For each round, each color channel corresponds to presence of a particular gene. Across rounds, the color channels index different genes. Here, we analyze one FOV from the first round (r) channel (c) which consists of 45 z-planes (z). Each image in this image stack is of dimensions 2048x2048 (y X x). The data are taken from mouse somatosensory cortex, and the gene in this channel is Adloc"
   ]
  },
  {
   "cell_type": "code",
   "execution_count": null,
   "metadata": {},
   "outputs": [],
   "source": [
    "experiment = data.osmFISH(use_test_data=True)\n",
    "imgs = experiment[\"fov_000\"].get_image(FieldOfView.PRIMARY_IMAGES)\n",
    "print(imgs)"
   ]
  },
  {
   "cell_type": "markdown",
   "metadata": {},
   "source": [
    "## Filter and Visualize Data"
   ]
  },
  {
   "cell_type": "markdown",
   "metadata": {},
   "source": [
    "First, we remove background signal using a gaussian high-pass filter"
   ]
  },
  {
   "cell_type": "code",
   "execution_count": null,
   "metadata": {},
   "outputs": [],
   "source": [
    "from starfish.image import Filter\n",
    "\n",
    "filter_ghp = Filter.GaussianHighPass(sigma=(1,8,8), is_volume=True)\n",
    "imgs_ghp = filter_ghp.run(imgs, in_place=False)"
   ]
  },
  {
   "cell_type": "markdown",
   "metadata": {},
   "source": [
    "Next, we enhance the spots by filtering with a Laplace filter"
   ]
  },
  {
   "cell_type": "code",
   "execution_count": null,
   "metadata": {},
   "outputs": [],
   "source": [
    "filter_laplace = Filter.Laplace(sigma=(0.2, 0.5, 0.5), is_volume=True)\n",
    "imgs_ghp_laplace = filter_laplace.run(imgs_ghp, in_place=False)"
   ]
  },
  {
   "cell_type": "markdown",
   "metadata": {},
   "source": [
    "Finally, we take a maximum projection over z, which effectively mitigates effects of out of focus z-planes"
   ]
  },
  {
   "cell_type": "code",
   "execution_count": null,
   "metadata": {},
   "outputs": [],
   "source": [
    "mp = imgs_ghp_laplace.max_proj(Axes.ZPLANE)"
   ]
  },
  {
   "cell_type": "markdown",
   "metadata": {},
   "source": [
    "We can now visualize our data before and after filtering"
   ]
  },
  {
   "cell_type": "code",
   "execution_count": null,
   "metadata": {},
   "outputs": [],
   "source": [
    "single_plane = imgs.max_proj(Axes.ZPLANE).xarray.sel({Axes.CH:0}).squeeze()\n",
    "single_plane_filtered = mp.xarray.sel({Axes.CH: 0}).squeeze()\n",
    "\n",
    "plt.figure(figsize=(10,10))\n",
    "plt.subplot(121)\n",
    "plt.imshow(single_plane, cmap='gray', clim = list(np.percentile(single_plane.data, [1, 99.9])))\n",
    "plt.axis('off')\n",
    "plt.title('Original data, Round:0, Channel: 0')\n",
    "plt.subplot(122)\n",
    "plt.imshow(single_plane_filtered, cmap='gray', clim = list(np.percentile(single_plane_filtered.data, [1, 99.9])))\n",
    "plt.title('Filtered data, Round:0, Channel: 0')\n",
    "plt.axis('off');"
   ]
  },
  {
   "cell_type": "markdown",
   "metadata": {},
   "source": [
    "## Decode the processed data into spatially resolved gene expression"
   ]
  },
  {
   "cell_type": "markdown",
   "metadata": {},
   "source": [
    "Decoding in a non-multiplexed image based transcriptomics method is equivalent to simple spot finding, since each spot in each color channel and round corresponds to a different gene. To find spots in osmFISH data, the authors employ a peak finder that distinguishes local maxima from their surroundings whose absolute intensities exceed a threshold value. It tests a number of different thresholds, building a curve from the number of peaks detected at each threshold. A threshold in the _stable region_ or _knee_ of the curve is selected, and final peaks are called with that threshold.\n",
    "\n",
    "This process is repeated independently for each round and channel. Here we show this process on a single round and channel to demonstrate the procedure. See the documentation for a precise description of the parameters."
   ]
  },
  {
   "cell_type": "code",
   "execution_count": null,
   "metadata": {},
   "outputs": [],
   "source": [
    "from starfish.spots import DetectSpots\n",
    "\n",
    "lmp = DetectSpots.LocalMaxPeakFinder(\n",
    "    min_distance=6,\n",
    "    stringency=0,\n",
    "    min_obj_area=6,\n",
    "    max_obj_area=600,\n",
    ")\n",
    "spot_intensities = lmp.run(mp)"
   ]
  },
  {
   "cell_type": "markdown",
   "metadata": {},
   "source": [
    "## Compare to pySMFISH peak calls"
   ]
  },
  {
   "cell_type": "markdown",
   "metadata": {},
   "source": [
    "The Field of view that we've used for the test data corresponds to Aldoc, imaged in round one, in position 33. We've also packaged the results from the osmFISH publication for this target to demonstrate that starfish is capable of recovering the same results."
   ]
  },
  {
   "cell_type": "code",
   "execution_count": null,
   "metadata": {},
   "outputs": [],
   "source": [
    "def load_results(pickle_file):\n",
    "    with open(pickle_file, \"rb\") as f:\n",
    "        return pickle.load(f)\n",
    "\n",
    "def get_benchmark_peaks(loaded_results, redo_flag=False):\n",
    "\n",
    "    if not redo_flag:\n",
    "        sp = pd.DataFrame(\n",
    "            {\n",
    "                \"y\":loaded_results[\"selected_peaks\"][:,0],\n",
    "                \"x\":loaded_results[\"selected_peaks\"][:,1],\n",
    "                \"selected_peaks_int\": loaded_results[\"selected_peaks_int\"],\n",
    "            }\n",
    "        )\n",
    "    else:\n",
    "        p = peaks(loaded_results)\n",
    "        coords = p[p.thr_array==loaded_results[\"selected_thr\"]].peaks_coords\n",
    "        coords = coords.values[0]\n",
    "        sp = pd.DataFrame({\"x\":coords[:,0], \"y\":coords[:,1]})\n",
    "\n",
    "    return sp\n",
    "\n",
    "try:\n",
    "    module_path = __file__\n",
    "except NameError:\n",
    "    # this is probably being run from jupyter\n",
    "    cwd = \".\"\n",
    "else:\n",
    "    cwd = os.path.dirname(module_path)\n",
    "benchmark_results = load_results(os.path.join(\n",
    "    cwd, \"data\", \"EXP-17-BP3597_hyb1_Aldoc_pos_33.pkl\"))\n",
    "benchmark_peaks = get_benchmark_peaks(benchmark_results, redo_flag=False)"
   ]
  },
  {
   "cell_type": "markdown",
   "metadata": {},
   "source": [
    "Plot spots detected in the benchmark as blue spots, and overlay spots from starfish as orange x's. Starfish detects the same spot positions, but 41 fewer spots in total."
   ]
  },
  {
   "cell_type": "code",
   "execution_count": null,
   "metadata": {},
   "outputs": [],
   "source": [
    "benchmark_spot_count = len(benchmark_peaks)\n",
    "starfish_spot_count = len(spot_intensities)\n",
    "\n",
    "plt.figure(figsize=(10,10))\n",
    "plt.plot(benchmark_peaks.x, -benchmark_peaks.y, \"o\")\n",
    "plt.plot(spot_intensities[Axes.X.value], -spot_intensities[Axes.Y.value], \"x\")\n",
    "\n",
    "plt.legend([\"Benchmark: {} spots\".format(benchmark_spot_count),\n",
    "            \"Starfish: {} spots\".format(starfish_spot_count)])\n",
    "plt.title(\"Starfish x osmFISH Benchmark Comparison\");"
   ]
  },
  {
   "cell_type": "code",
   "execution_count": null,
   "metadata": {},
   "outputs": [],
   "source": [
    "spot_difference = benchmark_spot_count - starfish_spot_count\n",
    "print(f\"Starfish finds {spot_difference} fewer spots\")\n",
    "assert spot_difference == 41  # for starfish testing purposes"
   ]
  }
 ],
 "metadata": {
  "kernelspec": {
   "display_name": "starfish",
   "language": "python",
   "name": "starfish"
  },
  "language_info": {
   "codemirror_mode": {
    "name": "ipython",
    "version": 3
   },
   "file_extension": ".py",
   "mimetype": "text/x-python",
   "name": "python",
   "nbconvert_exporter": "python",
   "pygments_lexer": "ipython3",
   "version": "3.6.5"
  }
 },
 "nbformat": 4,
 "nbformat_minor": 2
}