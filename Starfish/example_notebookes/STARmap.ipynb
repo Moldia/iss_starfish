{
 "cells": [
  {
   "cell_type": "code",
   "execution_count": null,
   "metadata": {},
   "outputs": [],
   "source": [
    "%matplotlib inline"
   ]
  },
  {
   "cell_type": "markdown",
   "metadata": {},
   "source": [
    "\n",
    "# STARmap processing example\n",
    "\n",
    "This notebook demonstrates the processing of STARmap data using starfish. The\n",
    "data we present here is a subset of the data used in this\n",
    "[publication](https://doi.org/10.1126/science.aat5691) and was generously provided to us by the authors."
   ]
  },
  {
   "cell_type": "code",
   "execution_count": null,
   "metadata": {},
   "outputs": [],
   "source": [
    "from pprint import pprint\n",
    "\n",
    "import matplotlib\n",
    "import matplotlib.pyplot as plt\n",
    "import numpy as np\n",
    "\n",
    "import starfish\n",
    "from starfish import IntensityTable\n",
    "import starfish.data\n",
    "from starfish.types import Axes\n",
    "from starfish.util.plot import (\n",
    "    diagnose_registration, imshow_plane, intensity_histogram\n",
    ")\n",
    "\n",
    "matplotlib.rcParams[\"figure.dpi\"] = 150"
   ]
  },
  {
   "cell_type": "markdown",
   "metadata": {},
   "source": [
    "## Visualize raw data\n",
    "\n",
    "In this starmap experiment, starfish exposes a test dataset containing a\n",
    "single field of view. This dataset contains 672 images spanning 6 rounds\n",
    "`(r)`, 4 channels `(ch)`, and 28 z-planes `(z)`. Each image\n",
    "is `1024x1024 (y, x)`\n",
    "\n",
    "To examine this data, the vignette displays the max projection of channels and\n",
    "rounds. Ideally, these should form fairly coherent spots, indicating that the\n",
    "data are well registered. By contrast, if there are patterns whereby pairs of\n",
    "spots are consistently present at small shifts, that can indicate systematic\n",
    "registration offsets which should be corrected prior to analysis."
   ]
  },
  {
   "cell_type": "code",
   "execution_count": null,
   "metadata": {},
   "outputs": [],
   "source": [
    "experiment = starfish.data.STARmap(use_test_data=True)\n",
    "stack = experiment['fov_000'].get_image('primary')"
   ]
  },
  {
   "cell_type": "code",
   "execution_count": null,
   "metadata": {},
   "outputs": [],
   "source": [
    "ch_r_projection = stack.max_proj(Axes.CH, Axes.ROUND)\n",
    "\n",
    "f = plt.figure(dpi=150)\n",
    "imshow_plane(ch_r_projection, sel={Axes.ZPLANE: 15})"
   ]
  },
  {
   "cell_type": "markdown",
   "metadata": {},
   "source": [
    "Visualize the codebook\n",
    "----------------------\n",
    "The STARmap codebook maps pixel intensities across the rounds and channels to\n",
    "the corresponding barcodes and genes that those pixels code for. For this\n",
    "dataset, the codebook specifies 160 gene targets."
   ]
  },
  {
   "cell_type": "code",
   "execution_count": null,
   "metadata": {},
   "outputs": [],
   "source": [
    "print(experiment.codebook)"
   ]
  },
  {
   "cell_type": "markdown",
   "metadata": {},
   "source": [
    "## Registration\n",
    "\n",
    "Starfish exposes some simple tooling to identify registration shifts.\n",
    "`starfish.util.plot.diagnose_registration` takes an ImageStack and a\n",
    "set of selectors, each of which maps `Axes` objects\n",
    "to indices that specify a particular 2d image.\n",
    "\n",
    "Below the vignette projects the channels and z-planes and examines the\n",
    "registration of those max projections across channels 0 and 1. To make the\n",
    "difference more obvious, we zoom in by selecting a subset of the image, and\n",
    "display the data before and after registration.\n",
    "\n",
    "It looks like there is a small shift approximately the size of a spot\n",
    "in the `x = -y` direction for at least the plotted rounds\n",
    "\n",
    "The starfish package can attempt a translation registration to fix this\n",
    "registration error."
   ]
  },
  {
   "cell_type": "code",
   "execution_count": null,
   "metadata": {},
   "outputs": [],
   "source": [
    "projection = stack.max_proj(Axes.CH, Axes.ZPLANE)\n",
    "reference_image = projection.sel({Axes.ROUND: 1})\n",
    "\n",
    "ltt = starfish.image.LearnTransform.Translation(\n",
    "    reference_stack=reference_image,\n",
    "    axes=Axes.ROUND,\n",
    "    upsampling=1000,\n",
    ")\n",
    "transforms = ltt.run(projection)"
   ]
  },
  {
   "cell_type": "markdown",
   "metadata": {},
   "source": [
    "How big are the identified translations?"
   ]
  },
  {
   "cell_type": "code",
   "execution_count": null,
   "metadata": {},
   "outputs": [],
   "source": [
    "pprint([t[2].translation for t in transforms.transforms])"
   ]
  },
  {
   "cell_type": "markdown",
   "metadata": {},
   "source": [
    "Apply the translations"
   ]
  },
  {
   "cell_type": "code",
   "execution_count": null,
   "metadata": {},
   "outputs": [],
   "source": [
    "warp = starfish.image.ApplyTransform.Warp()\n",
    "stack = warp.run(\n",
    "    stack=stack,\n",
    "    transforms_list=transforms,\n",
    ")"
   ]
  },
  {
   "cell_type": "markdown",
   "metadata": {},
   "source": [
    "Show the effect of registration."
   ]
  },
  {
   "cell_type": "code",
   "execution_count": null,
   "metadata": {},
   "outputs": [],
   "source": [
    "post_projection = stack.max_proj(Axes.CH, Axes.ZPLANE)"
   ]
  },
  {
   "cell_type": "code",
   "execution_count": null,
   "metadata": {},
   "outputs": [],
   "source": [
    "f, (ax1, ax2) = plt.subplots(ncols=2)\n",
    "sel_0 = {Axes.ROUND: 0, Axes.X: (500, 600), Axes.Y: (500, 600)}\n",
    "sel_1 = {Axes.ROUND: 1, Axes.X: (500, 600), Axes.Y: (500, 600)}\n",
    "diagnose_registration(\n",
    "    projection, sel_0, sel_1, ax=ax1, title='pre-registered'\n",
    ")\n",
    "diagnose_registration(\n",
    "    post_projection, sel_0, sel_1, ax=ax2, title='registered'\n",
    ")\n",
    "f.tight_layout()"
   ]
  },
  {
   "cell_type": "markdown",
   "metadata": {},
   "source": [
    "The plot shows that the slight offset has been corrected.\n",
    "\n",
    "Equalize channel intensities\n",
    "----------------------------\n",
    "The second stage of the STARmap pipeline is to align the intensity\n",
    "distributions across channels and rounds. Here we calculate a reference\n",
    "distribution by sorting each image's intensities in increasing order and\n",
    "averaging the ordered intensities across rounds and channels. All `(z, y, x)`\n",
    "volumes from each round and channel are quantile normalized against this\n",
    "reference.\n",
    "\n",
    "Note that this type of histogram matching has an implied assumption that each\n",
    "channel has relatively similar numbers of spots. In the case of this data\n",
    "this assumption is reasonably accurate, but for other datasets it can be\n",
    "problematic to apply filters that match this stringently."
   ]
  },
  {
   "cell_type": "code",
   "execution_count": null,
   "metadata": {},
   "outputs": [],
   "source": [
    "mh = starfish.image.Filter.MatchHistograms({Axes.CH, Axes.ROUND})\n",
    "scaled = mh.run(stack, in_place=False, verbose=True, n_processes=8)"
   ]
  },
  {
   "cell_type": "code",
   "execution_count": null,
   "metadata": {},
   "outputs": [],
   "source": [
    "def plot_scaling_result(\n",
    "    template: starfish.ImageStack, scaled: starfish.ImageStack\n",
    "):\n",
    "    f, (before, after) = plt.subplots(ncols=4, nrows=2)\n",
    "    for channel, ax in enumerate(before):\n",
    "        title = f'Before scaling\\nChannel {channel}'\n",
    "        intensity_histogram(\n",
    "            template, sel={Axes.CH: channel, Axes.ROUND: 0}, ax=ax, title=title,\n",
    "            log=True, bins=50,\n",
    "        )\n",
    "        ax.set_xlim((0, 1))\n",
    "    for channel, ax in enumerate(after):\n",
    "        title = f'After scaling\\nChannel {channel}'\n",
    "        intensity_histogram(\n",
    "            scaled, sel={Axes.CH: channel, Axes.ROUND: 0}, ax=ax, title=title,\n",
    "            log=True, bins=50,\n",
    "        )\n",
    "        ax.set_xlim((0, 1))\n",
    "    f.tight_layout()\n",
    "    return f\n",
    "\n",
    "f = plot_scaling_result(stack, scaled)"
   ]
  },
  {
   "cell_type": "markdown",
   "metadata": {},
   "source": [
    "Find spots\n",
    "----------\n",
    "Finally, a local blob detector that finds spots in each (z, y, x) volume\n",
    "separately is applied. The user selects an \"anchor round\" and spots found in\n",
    "all channels of that round are used to seed a local search across other rounds\n",
    "and channels. The closest spot is selected, and any spots outside the search\n",
    "radius (here 10 pixels) is discarded.\n",
    "\n",
    "The Spot finder returns an IntensityTable containing all spots from round\n",
    "zero. Note that many of the spots do _not_ identify spots in other rounds and\n",
    "channels and will therefore fail decoding. Because of the stringency built\n",
    "into the STARmap codebook, it is OK to be relatively permissive with the spot\n",
    "finding parameters for this assay."
   ]
  },
  {
   "cell_type": "code",
   "execution_count": null,
   "metadata": {},
   "outputs": [],
   "source": [
    "lsbd = starfish.spots.DetectSpots.LocalSearchBlobDetector(\n",
    "    min_sigma=1,\n",
    "    max_sigma=8,\n",
    "    num_sigma=10,\n",
    "    threshold=np.percentile(np.ravel(stack.xarray.values), 95),\n",
    "    exclude_border=2,\n",
    "    anchor_round=0,\n",
    "    search_radius=10,\n",
    ")\n",
    "intensities = lsbd.run(scaled, n_processes=8)"
   ]
  },
  {
   "cell_type": "markdown",
   "metadata": {},
   "source": [
    "Decode spots\n",
    "------------\n",
    "Next, spots are decoded. There is really no good way to display 3-d spot\n",
    "detection in 2-d planes, so we encourage you to grab this notebook and\n",
    "uncomment the below lines."
   ]
  },
  {
   "cell_type": "code",
   "execution_count": null,
   "metadata": {},
   "outputs": [],
   "source": [
    "decoded = experiment.codebook.decode_per_round_max(IntensityTable(intensities.fillna(0)))\n",
    "decode_mask = decoded['target'] != 'nan'\n",
    "\n",
    "# %gui qt\n",
    "# viewer = starfish.display(\n",
    "#     stack, decoded[decode_mask], radius_multiplier=2, mask_intensities=0.1\n",
    "# )"
   ]
  }
 ],
 "metadata": {
  "kernelspec": {
   "display_name": "starfish",
   "language": "python",
   "name": "starfish"
  },
  "language_info": {
   "codemirror_mode": {
    "name": "ipython",
    "version": 3
   },
   "file_extension": ".py",
   "mimetype": "text/x-python",
   "name": "python",
   "nbconvert_exporter": "python",
   "pygments_lexer": "ipython3",
   "version": "3.6.5"
  }
 },
 "nbformat": 4,
 "nbformat_minor": 2
}